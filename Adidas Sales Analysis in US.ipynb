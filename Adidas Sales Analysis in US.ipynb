{
 "cells": [
  {
   "cell_type": "markdown",
   "metadata": {},
   "source": [
    "# Adidas Sales Analysis in US\n",
    "\n",
    "by: Muhammad Iqbal"
   ]
  },
  {
   "cell_type": "markdown",
   "metadata": {},
   "source": [
    "**Problem Statement**\n",
    "- The dataset utilized originates from Kaggle ([Here](https://www.kaggle.com/datasets/bcnishantreddy/adidas-us-sales-datasets)).\n",
    "- The dataset contains information about Adidas sales in the United States, including details about retailers, invoice dates, product details, pricing, and financial metrics. \n",
    "- The goal of this project is to conduct a comprehensive analysis of the Adidas sales data and derive insights that can inform business strategies. \n",
    "- Specifically, we aim to answer key questions and address relevant aspects related to sales and profitability."
   ]
  },
  {
   "cell_type": "markdown",
   "metadata": {},
   "source": [
    "**Assumptions**\n",
    "- The Adidas sales dataset is a representative sample that accurately reflects the diversity of transactions conducted by the company in the United States during the specified time period.\n",
    "- The data in the Adidas sales dataset is accurate, reliable, and has undergone thorough cleaning and preprocessing before analysis. Any missing or erroneous values have been appropriately handled.\n",
    "- The dataset covers a sufficiently extensive time period to capture seasonal variations, trends, and patterns in Adidas sales in the United States. \n",
    "- The dataset is not significantly impacted by outliers or anomalies that could skew the analysis of key metrics\n",
    "- All monetary values are consistently represented in the same currency.\n",
    "- There have been no major shifts in Adidas' business strategy during the time covered by the dataset that would significantly impact sales or profitability."
   ]
  },
  {
   "cell_type": "markdown",
   "metadata": {},
   "source": [
    "**Research Questions**\n",
    "1. What is the overall sales performance in Adidas product and retailer in the US?\n",
    "2. What is the overall trend in Adidas sales in the US over the specified time period?\n",
    "3. Is there a variation in product preferences at each retailer and which retailer in the US contributes the most to Adidas profit for each product?\n",
    "4. Which city, state, and region in the US contribute the most to Adidas sales, and are there any regional variations in product preferences?\n",
    "5. Is there a correlation between the Units Sold, Total Sales, and Operating Profit for Adidas products in the US?\n",
    "6. What is the most effective sales method to use, and what is the variation in sales methods for Adidas across different retailers?"
   ]
  },
  {
   "cell_type": "markdown",
   "metadata": {},
   "source": [
    "# Library and Explore Data"
   ]
  },
  {
   "cell_type": "code",
   "execution_count": null,
   "metadata": {},
   "outputs": [],
   "source": [
    "import pandas as pd\n",
    "import numpy as np\n",
    "import matplotlib.pyplot as plt\n",
    "import seaborn as sns\n",
    "from matplotlib.ticker import FuncFormatter"
   ]
  },
  {
   "cell_type": "code",
   "execution_count": null,
   "metadata": {},
   "outputs": [],
   "source": [
    "df = pd.read_excel(r'Adidas US Sales Datasets.xlsx',skiprows = 4)"
   ]
  },
  {
   "cell_type": "code",
   "execution_count": null,
   "metadata": {},
   "outputs": [],
   "source": [
    "data = df.drop('Unnamed: 0', axis=1)"
   ]
  },
  {
   "cell_type": "code",
   "execution_count": null,
   "metadata": {},
   "outputs": [],
   "source": [
    "data.isnull().sum()"
   ]
  },
  {
   "cell_type": "code",
   "execution_count": null,
   "metadata": {},
   "outputs": [],
   "source": [
    "data.isnull().sum()"
   ]
  },
  {
   "cell_type": "code",
   "execution_count": null,
   "metadata": {},
   "outputs": [],
   "source": [
    "data.info()"
   ]
  },
  {
   "cell_type": "code",
   "execution_count": null,
   "metadata": {},
   "outputs": [],
   "source": [
    "data.duplicated().sum()"
   ]
  },
  {
   "cell_type": "code",
   "execution_count": null,
   "metadata": {},
   "outputs": [],
   "source": [
    "data['Invoice Date'] = pd.to_datetime(data['Invoice Date'])\n",
    "data['Month'] = data['Invoice Date'].dt.month_name().str[:3]\n",
    "data['year']=data['Invoice Date'].dt.year"
   ]
  },
  {
   "cell_type": "code",
   "execution_count": null,
   "metadata": {},
   "outputs": [],
   "source": [
    "data.describe()"
   ]
  },
  {
   "cell_type": "code",
   "execution_count": null,
   "metadata": {},
   "outputs": [],
   "source": [
    "data"
   ]
  },
  {
   "cell_type": "code",
   "execution_count": null,
   "metadata": {},
   "outputs": [],
   "source": [
    "data.columns"
   ]
  },
  {
   "cell_type": "markdown",
   "metadata": {},
   "source": [
    "# Research Answer"
   ]
  },
  {
   "cell_type": "markdown",
   "metadata": {},
   "source": [
    "# 1. What is the overall sales performance in Adidas product and retailer in the US"
   ]
  },
  {
   "cell_type": "markdown",
   "metadata": {},
   "source": [
    "Top Products"
   ]
  },
  {
   "cell_type": "code",
   "execution_count": null,
   "metadata": {},
   "outputs": [],
   "source": [
    "top_product_overall = data.groupby('Product')[['Units Sold', 'Total Sales', 'Operating Profit']].sum().reset_index()\n",
    "top_sold = top_product_overall.sort_values(by='Units Sold', ascending=False)\n",
    "top_sales = top_product_overall.sort_values(by='Total Sales', ascending=False)\n",
    "top_profit = top_product_overall.sort_values(by='Operating Profit', ascending=False)"
   ]
  },
  {
   "cell_type": "code",
   "execution_count": null,
   "metadata": {},
   "outputs": [],
   "source": [
    "top_sold"
   ]
  },
  {
   "cell_type": "code",
   "execution_count": null,
   "metadata": {},
   "outputs": [],
   "source": [
    "top_sales"
   ]
  },
  {
   "cell_type": "code",
   "execution_count": null,
   "metadata": {},
   "outputs": [],
   "source": [
    "top_profit"
   ]
  },
  {
   "cell_type": "code",
   "execution_count": null,
   "metadata": {},
   "outputs": [],
   "source": [
    "variables = ['Units Sold', 'Total Sales', 'Operating Profit']\n",
    "\n",
    "for variable in variables:\n",
    "    top_variable = top_product_overall.sort_values(by=variable, ascending=False)\n",
    "    \n",
    "    plt.figure(figsize=(9, 6))\n",
    "    ax = sns.barplot(data=top_variable, x='Product', y=variable, palette='inferno')\n",
    "    \n",
    "    for container in ax.containers:\n",
    "        ax.bar_label(container, fmt='%d', fontsize=10, color='black', label_type='edge', padding=3)\n",
    "    \n",
    "    plt.xticks(rotation=90)\n",
    "    plt.title(f\"Top Adidas Products - based on {variable} (US)\", size=15)\n",
    "    plt.show()"
   ]
  },
  {
   "cell_type": "markdown",
   "metadata": {},
   "source": [
    "Top Retailer"
   ]
  },
  {
   "cell_type": "code",
   "execution_count": null,
   "metadata": {},
   "outputs": [],
   "source": [
    "salesby_retail = data.groupby('Retailer')[['Total Sales', 'Operating Profit']].sum().reset_index()\n",
    "retail = salesby_retail.sort_values(by='Total Sales', ascending=False)\n",
    "retail"
   ]
  },
  {
   "cell_type": "code",
   "execution_count": null,
   "metadata": {},
   "outputs": [],
   "source": [
    "plt.figure(figsize=(30, 7))\n",
    "ax = sns.barplot(y='Retailer', x='Total Sales', data=retail, color='#FFB534', edgecolor='none', width=0.7, label='Total Sales')\n",
    "ax = sns.barplot(y='Retailer', x='Operating Profit', data=retail, color='#5F0F40', edgecolor='none', width=0.7,  label='Profit')\n",
    "\n",
    "def dollar_format(x, pos):\n",
    "    return f\"${x:,.0f}\"\n",
    "for container in ax.containers:\n",
    "    ax.bar_label(container, fmt=FuncFormatter(dollar_format), fontsize=10, color='black', label_type='edge', padding=3)\n",
    "\n",
    "ax.set(title='Sales and Profit each of Retailer')\n",
    "ax.set(ylabel='Retailer', xlabel='Total Sales n Profit')\n",
    "plt.show()\n"
   ]
  },
  {
   "cell_type": "markdown",
   "metadata": {},
   "source": [
    "# 2. What is the overall trend in Adidas sales in the US over the specified time period?"
   ]
  },
  {
   "cell_type": "markdown",
   "metadata": {},
   "source": [
    "Monthwise Sales and Profit"
   ]
  },
  {
   "cell_type": "code",
   "execution_count": null,
   "metadata": {},
   "outputs": [],
   "source": [
    "Monthwise_profit = data.groupby('Month')[['Operating Profit', 'Total Sales']].sum().reset_index().sort_values(by='Month', ascending=False)\n",
    "Monthwise_profit"
   ]
  },
  {
   "cell_type": "code",
   "execution_count": null,
   "metadata": {},
   "outputs": [],
   "source": [
    "plt.figure(figsize=(20, 8))\n",
    "\n",
    "sns.lineplot(x='Month', y='Total Sales', data=Monthwise_profit, color='#FFB534', label='Total Sales')\n",
    "sns.lineplot(x='Month', y='Operating Profit', data=Monthwise_profit, color='#5F0F40', label='Profit')\n",
    "\n",
    "max_total_sales = Monthwise_profit.loc[Monthwise_profit['Total Sales'].idxmax()]\n",
    "min_total_sales = Monthwise_profit.loc[Monthwise_profit['Total Sales'].idxmin()]\n",
    "\n",
    "max_operating_profit = Monthwise_profit.loc[Monthwise_profit['Operating Profit'].idxmax()]\n",
    "min_operating_profit = Monthwise_profit.loc[Monthwise_profit['Operating Profit'].idxmin()]\n",
    "\n",
    "plt.annotate(f'Highest Total Sales\\n({max_total_sales[\"Month\"]}, {max_total_sales[\"Total Sales\"]})',\n",
    "             xy=(max_total_sales['Month'], max_total_sales['Total Sales']),\n",
    "             xytext=(max_total_sales['Month'], max_total_sales['Total Sales'] + 500), \n",
    "             arrowprops=dict(facecolor='black', shrink=0.05),\n",
    "             fontsize=10, color='black')\n",
    "\n",
    "plt.annotate(f'Lowest Total Sales\\n({min_total_sales[\"Month\"]}, {min_total_sales[\"Total Sales\"]})',\n",
    "             xy=(min_total_sales['Month'], min_total_sales['Total Sales']),\n",
    "             xytext=(min_total_sales['Month'], min_total_sales['Total Sales'] - 500),  \n",
    "             arrowprops=dict(facecolor='black', shrink=0.05),\n",
    "             fontsize=10, color='black')\n",
    "\n",
    "plt.annotate(f'Highest Profit\\n({max_operating_profit[\"Month\"]}, {max_operating_profit[\"Operating Profit\"]})',\n",
    "             xy=(max_operating_profit['Month'], max_operating_profit['Operating Profit']),\n",
    "             xytext=(max_operating_profit['Month'], max_operating_profit['Operating Profit'] + 500), \n",
    "             arrowprops=dict(facecolor='black', shrink=0.05),\n",
    "             fontsize=10, color='black')\n",
    "\n",
    "plt.annotate(f'Lowest Profit\\n({min_operating_profit[\"Month\"]}, {min_operating_profit[\"Operating Profit\"]})',\n",
    "             xy=(min_operating_profit['Month'], min_operating_profit['Operating Profit']),\n",
    "             xytext=(min_operating_profit['Month'], min_operating_profit['Operating Profit'] - 500),  \n",
    "             arrowprops=dict(facecolor='black', shrink=0.05),\n",
    "             fontsize=10, color='black')\n",
    "\n",
    "plt.title('Month-Wise Sales Analysis', fontsize=14)\n",
    "plt.xlabel('Month', size=13)\n",
    "plt.ylabel('Total Sales', size=13)\n",
    "plt.legend()\n",
    "plt.show()"
   ]
  },
  {
   "cell_type": "markdown",
   "metadata": {},
   "source": [
    "Yearwise Product Sales and Profit"
   ]
  },
  {
   "cell_type": "code",
   "execution_count": null,
   "metadata": {},
   "outputs": [],
   "source": [
    "yearwise= data.groupby(['year', 'Product'])[['Operating Profit', 'Total Sales']].sum().reset_index()\n",
    "yearwise"
   ]
  },
  {
   "cell_type": "code",
   "execution_count": null,
   "metadata": {},
   "outputs": [],
   "source": [
    "custom_palette = ['#5F0F40', '#FFB534']\n",
    "\n",
    "plt.figure(figsize=(25, 8)) \n",
    "\n",
    "ax = sns.barplot(x='Operating Profit', y='Product', hue='year', data=yearwise, palette=custom_palette)\n",
    "\n",
    "def dollar_format(x, pos):\n",
    "    return f\"${x:,.0f}\"\n",
    "for container in ax.containers:\n",
    "    ax.bar_label(container, fmt=FuncFormatter(dollar_format), fontsize=10, color='black', label_type='edge', padding=3)\n",
    "\n",
    "plt.title('Year-wise Product Profit Analysis', fontsize=15)\n",
    "plt.ylabel('Product')\n",
    "plt.xlabel('Profit')\n",
    "plt.legend(title='Year')\n",
    "plt.show()\n"
   ]
  },
  {
   "cell_type": "code",
   "execution_count": null,
   "metadata": {},
   "outputs": [],
   "source": [
    "plt.figure(figsize=(25, 8)) \n",
    "\n",
    "ax = sns.barplot(x='Total Sales', y='Product', hue='year', data=yearwise, palette=custom_palette)\n",
    "\n",
    "def dollar_format(x, pos):\n",
    "    return f\"${x:,.0f}\"\n",
    "for container in ax.containers:\n",
    "    ax.bar_label(container, fmt=FuncFormatter(dollar_format), fontsize=10, color='black', label_type='edge', padding=3)\n",
    "\n",
    "plt.title('Year-wise Product Sales Analysis', fontsize=15)\n",
    "plt.ylabel('Product')\n",
    "plt.xlabel('Sales')\n",
    "plt.legend(title='Year')\n",
    "plt.show()"
   ]
  },
  {
   "cell_type": "markdown",
   "metadata": {},
   "source": [
    "# 3. Is there a variation in product preferences at each retailer and which retailer in the US contributes the most to Adidas profit for each product?"
   ]
  },
  {
   "cell_type": "code",
   "execution_count": null,
   "metadata": {},
   "outputs": [],
   "source": [
    "top_product_retail = data.groupby(['Retailer', 'Product'])[['Units Sold', 'Operating Profit']].sum().reset_index()\n",
    "top_sold_retail = top_product_retail.sort_values(by=['Product', 'Units Sold'], ascending=False)\n",
    "top_profit_retail = top_product_retail.sort_values(by=['Product','Operating Profit'], ascending=False)\n",
    "top_sold_retail"
   ]
  },
  {
   "cell_type": "code",
   "execution_count": null,
   "metadata": {},
   "outputs": [],
   "source": [
    "top_profit_retail"
   ]
  },
  {
   "cell_type": "code",
   "execution_count": null,
   "metadata": {},
   "outputs": [],
   "source": [
    "top_variable_retail = top_product_retail.sort_values(by='Units Sold', ascending=False)\n",
    "\n",
    "# Plotting\n",
    "plt.figure(figsize=(25, 8))\n",
    "ax = sns.barplot(y='Retailer', x='Units Sold', hue='Product', data=top_variable_retail, palette='inferno')\n",
    "for container in ax.containers:\n",
    "    ax.bar_label(container, fmt='%d', fontsize=10, color='black', label_type='edge', padding=3)\n",
    "\n",
    "plt.title(f'Top Retailer- based on Units Sold', fontsize=15)\n",
    "plt.ylabel('Retailer')\n",
    "plt.xlabel('Units Sold')\n",
    "plt.show()"
   ]
  },
  {
   "cell_type": "code",
   "execution_count": null,
   "metadata": {},
   "outputs": [],
   "source": [
    "profitable_retail = top_product_retail.sort_values(by='Operating Profit', ascending=False)\n",
    "\n",
    "plt.figure(figsize=(25, 8))\n",
    "ax = sns.barplot(y='Retailer', x='Operating Profit', hue='Product', data=top_variable_retail, palette='inferno')\n",
    "def dollar_format(x, pos):\n",
    "    return f\"${x:,.0f}\"\n",
    "for container in ax.containers:\n",
    "    ax.bar_label(container, fmt=FuncFormatter(dollar_format), fontsize=10, color='black', label_type='edge', padding=3)\n",
    "\n",
    "plt.title(f'Top Retailer- based on Operating Profit', fontsize=15)\n",
    "plt.ylabel('Retailer')\n",
    "plt.xlabel('Operating Profit')\n",
    "plt.show()"
   ]
  },
  {
   "cell_type": "markdown",
   "metadata": {},
   "source": [
    "# 4. Which city, state, and region in the US contribute the most to Adidas sales, and are there any regional variations in product preferences?"
   ]
  },
  {
   "cell_type": "code",
   "execution_count": null,
   "metadata": {},
   "outputs": [],
   "source": [
    "top_city = data.groupby('City')[['Total Sales']].sum().reset_index().sort_values(by='Total Sales', ascending=False).head(10)\n",
    "top_city"
   ]
  },
  {
   "cell_type": "code",
   "execution_count": null,
   "metadata": {},
   "outputs": [],
   "source": [
    "plt.figure(figsize=(12,5))\n",
    "sns.barplot(x='Total Sales',y='City',data=top_city,palette = 'inferno')\n",
    "plt.xticks(size= 12)\n",
    "plt.title('Top City',size= 14)\n",
    "plt.xlabel('Total Sales',size = 13)\n",
    "plt.ylabel('City',size = 13)"
   ]
  },
  {
   "cell_type": "code",
   "execution_count": null,
   "metadata": {},
   "outputs": [],
   "source": [
    "top_state = data.groupby('State')[['Total Sales']].sum().reset_index().sort_values(by='Total Sales', ascending=False).head(10)\n",
    "top_state"
   ]
  },
  {
   "cell_type": "code",
   "execution_count": null,
   "metadata": {},
   "outputs": [],
   "source": [
    "plt.figure(figsize=(12,5))\n",
    "sns.barplot(x='Total Sales',y='State',data=top_state ,palette = 'inferno')\n",
    "plt.xticks(size= 12)\n",
    "plt.title('Top State',size= 14)\n",
    "plt.xlabel('Total Sales',size = 13)\n",
    "plt.ylabel('State',size = 13)"
   ]
  },
  {
   "cell_type": "code",
   "execution_count": null,
   "metadata": {},
   "outputs": [],
   "source": [
    "salesby_region = data.groupby('Region')['Total Sales'].sum().reset_index().sort_values(by='Total Sales', ascending=False)\n",
    "salesby_region"
   ]
  },
  {
   "cell_type": "code",
   "execution_count": null,
   "metadata": {},
   "outputs": [],
   "source": [
    "fig, ax = plt.subplots(figsize=(5, 5))\n",
    "wp = {'linewidth': 2, 'edgecolor': 'black'}\n",
    "explode = (0.1,) * len(salesby_region)\n",
    "\n",
    "ax.pie(salesby_region['Total Sales'], labels=salesby_region['Region'], autopct='%1.1f%%', \n",
    "       shadow=True, startangle=90, wedgeprops=wp, explode=explode)\n",
    "ax.set_title('Top Region')\n",
    "plt.show()"
   ]
  },
  {
   "cell_type": "code",
   "execution_count": null,
   "metadata": {},
   "outputs": [],
   "source": [
    "product_region = data.groupby(['Region', 'Product'])[['Units Sold', 'Total Sales']].sum()\n",
    "top_product_region = product_region.sort_values(by='Total Sales', ascending=False)\n",
    "top_product_region"
   ]
  },
  {
   "cell_type": "code",
   "execution_count": null,
   "metadata": {},
   "outputs": [],
   "source": [
    "plt.figure(figsize = (10,5))\n",
    "sns.barplot(x='Region' , y= 'Total Sales' , hue = 'Product' , data = top_product_region, palette = 'inferno')\n",
    "plt.title('Region highest sales',fontsize=15)\n",
    "plt.xlabel('Region')\n",
    "plt.ylabel('Sales')\n",
    "plt.show()"
   ]
  },
  {
   "cell_type": "markdown",
   "metadata": {},
   "source": [
    "# 5. Is there a correlation between the Units Sold, Total Sales, and Operating Profit for Adidas products in US?"
   ]
  },
  {
   "cell_type": "code",
   "execution_count": null,
   "metadata": {},
   "outputs": [],
   "source": [
    "correlation_matrix = df[['Units Sold', 'Total Sales', 'Operating Profit']].corr()\n",
    "plt.figure(figsize=(10, 6))\n",
    "sns.heatmap(correlation_matrix, annot=True, cmap=\"crest\")\n",
    "plt.title(\"Correlation Matrix\")\n",
    "plt.show()"
   ]
  },
  {
   "cell_type": "markdown",
   "metadata": {},
   "source": [
    "# 6. What is the most effective sales method to use, and what is the variation in sales methods for Adidas across different retailers?"
   ]
  },
  {
   "cell_type": "code",
   "execution_count": null,
   "metadata": {},
   "outputs": [],
   "source": [
    "ax = sns.barplot(data=data['Sales Method'].value_counts(), palette='inferno')\n",
    "for container in ax.containers:\n",
    "    ax.bar_label(container, fmt='%d', fontsize=8, color='black', label_type='edge', padding=2)\n",
    "plt.title('Best Sales Method')\n",
    "plt.show()"
   ]
  },
  {
   "cell_type": "code",
   "execution_count": null,
   "metadata": {},
   "outputs": [],
   "source": [
    "best_sales = data.groupby('Retailer')['Sales Method'].value_counts().reset_index(name='Count')\n",
    "best_sales_method = best_sales.sort_values(by=['Retailer', 'Count'], ascending=[False, False])\n",
    "best_sales_method\n"
   ]
  },
  {
   "cell_type": "code",
   "execution_count": null,
   "metadata": {},
   "outputs": [],
   "source": [
    "# Plotting\n",
    "plt.figure(figsize=(18, 7))\n",
    "ax = sns.barplot(x='Retailer', y='Count', hue='Sales Method', data=best_sales_method, palette='inferno')\n",
    "for container in ax.containers:\n",
    "    ax.bar_label(container, fmt='%d', fontsize=10, color='black', label_type='edge', padding=3)\n",
    "\n",
    "plt.title(f'Top Sales Method in Each Retailer', fontsize=15)\n",
    "plt.show()"
   ]
  },
  {
   "cell_type": "markdown",
   "metadata": {},
   "source": [
    "# Conclusion\n",
    "\n",
    "1. The results shows that the performance of Adidas products in the United States is evaluated based on Units Sold, Total Sales, and Operating Profit. Men's Street Footwear emerges as the best-selling product with 593,320 units sold. On the other hand, Men's Apparel is the least popular product with only 30,683 units sold. Additionally, Men's Street Footwear stands out with the highest sales and profit, amounting to $208,826,244.00 and $82,802,260.62, respectively.\n",
    "\n",
    "2. The overall trend in Adidas sales in the US over the specified month-wise and year-wise analysis indicates that, on a month-wise basis, both sales and profit exhibit a fluctuating pattern. July emerges as the best-performing month and August based on profit, while March stands out as the least favorable. On a year-wise analysis, sales and profit in 2021 show improvement compared to 2020.\n",
    "\n",
    "3. Based on Units Sold, Adidas products are predominantly sold through Gear Wear, except for Men's Street Footwear, which sees the highest sales through Foot Locker. In terms of profit, Foot Locker contributes the highest profit for Men's Street Footwear. Sports Direct leads in profit for Women's Apparel, while Gear Wear tops the list for Women's Street Footwear, Women's Athletic Footwear, Men's Athletic Footwear, and Men's Apparel.\n",
    "\n",
    "4. The cities that contribute the most to Adidas sales in the US are Charleston, New York, and San Francisco, while the leading states are New York, California, and Florida. Additionally, the West region stands out as the top-performing region for Adidas sales in the US. Men's Street Footwear exhibits the highest sales in every region except the South, where Men's Apparel takes the lead as the best-selling product.\n",
    "\n",
    "5. Overall, the correlation matrix suggests strong positive correlations between all three variables. This means that as Units Sold, Total Sales, and Operating Profit increase, the other two variables tend to increase as well. Here's a breakdown of the specific correlations:\n",
    "    - Units Sold and Total Sales: The correlation coefficient of 0.98 indicates a very strong positive correlation. This means that as the number of units sold increases, the total sales amount also increases, and vice versa.\n",
    "    - Total Sales and Operating Profit: The correlation coefficient of 0.96 also suggests a very strong positive correlation. This implies that as total sales increase, operating profit also tends to increase, and vice versa.\n",
    "    - Units Sold and Operating Profit: The correlation coefficient of 0.91 represents a strong positive correlation. This suggests that as the number of units sold increases, operating profit also tends to increase, although not as strongly as the correlation between Total Sales and Operating Profit.\n",
    "\n",
    "6. Online is the most prevalent sales method used by Adidas, this is likely due to the increasing popularity of online shopping among consumers. In-store is the second most common sales method used by Adidas, this is likely due to the convenience of shopping at physical stores and the opportunity to try products on directly. Outlets are the least common sales method for Adidas, this is likely due to the lower prices at outlets, which may attract bargain-hunting consumers.\n",
    "\n"
   ]
  },
  {
   "cell_type": "markdown",
   "metadata": {},
   "source": [
    "# Suggestions (Based  on Conclusions)\n",
    "**1. Sales and Profit Optimization Based on Best-Least Product**\n",
    "\n",
    "By observing that Men's Street Footwear emerges as the best-selling product and Men's Apparel is the least popular, Adidas can focus on marketing strategies and boosting sales for these products. This may involve:\n",
    "    \n",
    "**for Men's Street Footwear (Best-Selling):**\n",
    "- Keep Men's Street Footwear fresh with innovative designs and collaborations.\n",
    "- Launch limited editions to create exclusivity and drive demand.\n",
    "- Develop targeted campaigns emphasizing unique features.\n",
    "- Implement exclusive loyalty programs for Men's Street Footwear buyers.\n",
    "- Explore variations within Men's Street Footwear for market diversity.\n",
    "\n",
    "**for Men's Apparel (Least Popular):**\n",
    "- Revamp Men's Apparel with new styles aligned with trends.\n",
    "- Create promotions bundling Men's Apparel with other products.\n",
    "- Develop strategies to appeal to a broader audience.\n",
    "- Introduce limited-time discounts to boost Men's Apparel sales.\n",
    "\n",
    "**2. Month and Year (wise) Optimization**\n",
    "\n",
    "Adidas should align marketing strategies with seasonal trends, implementing targeted campaigns and managing inventory effectively to address the month-wise fluctuations observed in sales and profit. Specifically, focusing on peak months like July can capitalize on increased consumer activity. For year-wise improvements, the brand should analyze successful factors contributing to the growth in 2021 and develop a strategic plan accordingly.\n",
    "\n",
    "**3. Best Products at the Top Retailers**\n",
    "\n",
    "Adidas can strategically enhance its performance across different retailers by tailoring approaches to each key partner. Firstly, with Gear Wear serving as the overall sales leader, Adidas should intensify collaboration by introducing exclusive releases and joint marketing initiatives. This concerted effort aims to broaden the consumer reach and solidify the brand's presence in the market. Simultaneously, with Foot Locker dominating in Men's Street Footwear sales, Adidas should capitalize on this success through exclusive collaborations. Such collaborations can not only sustain the demand for Men's Street Footwear but also attract Foot Locker's specific customer base, creating a mutually beneficial relationship. Additionally, recognizing Sports Direct as the leader in Women's Apparel profitability, Adidas should prioritize collaborative efforts to optimize the Women's Apparel product line.\n",
    "\n",
    "**4. Regionalized Triumph: Tailored Strategies for Adidas Sales in US**\n",
    "\n",
    "Each location represents diverse consumer preferences and lifestyles, necessitating tailored marketing approaches. For instance, New York may benefit from exclusive collections and dynamic in-store experiences, while California could focus on active lifestyle campaigns. In Florida, season-specific promotions emphasizing athleisure wear for warm climates may be key. The West region's success indicates an opportunity for Adidas to tap into the innovation-driven and outdoor-focused culture, introducing technologically advanced sports gear. Additionally, in the South, where Men's Apparel leads in sales, a strategic emphasis on expanding and promoting this product line can enhance overall performance. This region-specific approach enables Adidas to strengthen its market presence, cater to diverse consumer demands, and sustain success across key cities, states, and regions in the United States.\n",
    "\n",
    "**5. Capitalize Units Sold, Sales, and Profit Correlations**\n",
    "\n",
    "To capitalize on these correlations, a strategic focus on driving Units Sold becomes pivotal. This could involve targeted marketing campaigns, product promotions, and enhanced distribution channels to stimulate sales growth. Furthermore, given the robust connection between Total Sales and Operating Profit, a holistic approach to revenue generation and cost management is essential. Strategies that optimize pricing, streamline operational efficiency, and leverage economies of scale can contribute to maximizing both Total Sales and Operating Profit. The correlation between Units Sold and Operating Profit, though slightly less strong, still underscores the importance of operational efficiency in converting sales into profitability. In essence, a comprehensive strategy that aligns marketing efforts with driving sales, while concurrently optimizing operational aspects, can harness these correlations for sustained business success.\n",
    "\n",
    "**6. Improve and Optimize Sales Method**\n",
    "\n",
    "To leverage this prevalent method, continuous enhancements to the online shopping experience, such as user-friendly interfaces, personalized recommendations, and efficient order processing, can be implemented. Additionally, targeted digital marketing campaigns and exclusive online promotions can further capitalize on the popularity of e-commerce, engaging with consumers and driving online sales growth. While online sales dominate, the acknowledgment of in-store shopping as the second most common method highlights the enduring importance of physical retail spaces. Adidas can optimize this channel by prioritizing an immersive in-store experience, incorporating innovative technologies like augmented reality for virtual try-ons, and organizing exclusive in-store events to attract foot traffic. Furthermore, emphasizing the seamless integration of online and in-store experiences, such as click-and-collect services and online-exclusive products available for in-store purchase, can create a cohesive shopping journey for consumers. Lastly, for outlets, exploring strategies to highlight the unique value proposition of outlet purchases, such as exclusive discounts or limited-edition releases, may attract bargain-seeking customers and increase the appeal of this sales channel."
   ]
  }
 ],
 "metadata": {
  "kernelspec": {
   "display_name": "Python 3",
   "language": "python",
   "name": "python3"
  },
  "language_info": {
   "codemirror_mode": {
    "name": "ipython",
    "version": 3
   },
   "file_extension": ".py",
   "mimetype": "text/x-python",
   "name": "python",
   "nbconvert_exporter": "python",
   "pygments_lexer": "ipython3",
   "version": "3.11.5"
  }
 },
 "nbformat": 4,
 "nbformat_minor": 2
}
